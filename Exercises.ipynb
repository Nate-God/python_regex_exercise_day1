{
 "cells": [
  {
   "cell_type": "code",
   "execution_count": null,
   "metadata": {},
   "outputs": [],
   "source": [
    "import re"
   ]
  },
  {
   "cell_type": "markdown",
   "metadata": {},
   "source": [
    "### Exercise 1"
   ]
  },
  {
   "cell_type": "markdown",
   "metadata": {},
   "source": [
    "Write a function that takes in a tweet and returns a list of the hashtags in the tweet<br>\n",
    "Ex. 1<br>\n",
    "tweet = \"Python is the best #Python #Programming #CodingTemple\"<br>\n",
    "Expected Output: [\"#Python\", \"#Programming\", \"#CodingTemple\"]<br>\n",
    "\n",
    "Ex. 2<br>\n",
    "tweet = \"I love my life! #blessed\"<br>\n",
    "Expected Output: [\"#bleesed\"]<br>\n",
    "\n",
    "Ex. 3<br>\n",
    "tweet = \"Bear Down\"<br>\n",
    "Expected Output: []<br>\n"
   ]
  },
  {
   "cell_type": "code",
   "execution_count": 9,
   "metadata": {},
   "outputs": [
    {
     "name": "stdout",
     "output_type": "stream",
     "text": [
      "['#Python', '#Programming', '#CodingTemple']\n"
     ]
    }
   ],
   "source": [
    "import re\n",
    "def tag_list(tweet):\n",
    "    hashtag = re.compile('#\\w+')\n",
    "    return hashtag.findall(tweet)\n",
    "print(tag_list(\"Python is the best #Python #Programming #CodingTemple\"))"
   ]
  },
  {
   "cell_type": "markdown",
   "metadata": {},
   "source": [
    "### Exercise 2"
   ]
  },
  {
   "cell_type": "markdown",
   "metadata": {},
   "source": [
    "Develop a regular expression to validate a username. The username should start with a letter, followed by any combination of letters, numbers, underscores, and dots. It should be between 3 and 16 characters long<br>\n",
    "Ex. 1 <br>\n",
    "username = \"CodingTemple123\"<br>\n",
    "Expected Output: True<br>\n",
    "\n",
    "Ex. 2 <br>\n",
    "username = \"1love\"<br>\n",
    "Expected Output: False<br>\n",
    "\n",
    "Ex. 3 <br>\n",
    "username = \"CT\"<br>\n",
    "Expected Output: False<br>\n",
    "\n",
    "Ex. 4 <br>\n",
    "username = \"This_is_a_username_that_I_would_like_to_use\"<br>\n",
    "Expected Output: False<br>\n",
    "\n",
    "Ex. 5 <br>\n",
    "username = \"brian_ct123\"<br>\n",
    "Expected Output: True<br>"
   ]
  },
  {
   "cell_type": "code",
   "execution_count": 8,
   "metadata": {
    "scrolled": true
   },
   "outputs": [
    {
     "name": "stdout",
     "output_type": "stream",
     "text": [
      "True\n",
      "True\n",
      "False\n",
      "False\n",
      "False\n"
     ]
    }
   ],
   "source": [
    "import re\n",
    "def validate_username(username):\n",
    "    #return re.search(r'^[a-zA-Z][a-zA-Z0-9_.]{2,15}$', username)\n",
    "    return bool(re.search(r'^[a-zA-Z][a-zA-Z0-9_.]{2,15}$', username))\n",
    "print(validate_username(\"brian_ct123\"))\n",
    "print(validate_username(\"CodingTemple123\"))\n",
    "print(validate_username(\"1love\"))\n",
    "print(validate_username(\"CT\"))\n",
    "print(validate_username(\"This_is_a_username_that_I_would_like_to_use\"))"
   ]
  },
  {
   "cell_type": "markdown",
   "metadata": {},
   "source": [
    "### Exercise 3"
   ]
  },
  {
   "cell_type": "markdown",
   "metadata": {},
   "source": [
    "Using the Python `open()` function, read in the `example.txt` file (attached in Google Classroom, make sure it is in the same folder as this notebook). Create a pattern that will find all of the dates in the text. Dates are in the format of YYYY-MM-DD. The pattern should have groups for year, month, and day. Using the `.finditer()` method, iterate over the dates and print in format of month/day/year<br>"
   ]
  },
  {
   "cell_type": "markdown",
   "metadata": {},
   "source": [
    "Output:\n",
    "```\n",
    "05/15/1990\n",
    "09/20/2015\n",
    "12/03/1985\n",
    "06/18/2010\n",
    "11/30/2002\n",
    "08/10/1978\n",
    "04/25/1992\n",
    "07/07/2019\n",
    "02/12/1980\n",
    "03/22/2005\n",
    "```"
   ]
  },
  {
   "cell_type": "code",
   "execution_count": 16,
   "metadata": {},
   "outputs": [
    {
     "ename": "NameError",
     "evalue": "name 'example' is not defined",
     "output_type": "error",
     "traceback": [
      "\u001b[1;31m---------------------------------------------------------------------------\u001b[0m",
      "\u001b[1;31mNameError\u001b[0m                                 Traceback (most recent call last)",
      "Cell \u001b[1;32mIn[16], line 2\u001b[0m\n\u001b[0;32m      1\u001b[0m \u001b[38;5;66;03m# %load 'example.txt'\u001b[39;00m\n\u001b[1;32m----> 2\u001b[0m example\u001b[38;5;241m.\u001b[39mtxt\n",
      "\u001b[1;31mNameError\u001b[0m: name 'example' is not defined"
     ]
    }
   ],
   "source": [
    "# %load 'example.txt'\n",
    "example.txt"
   ]
  },
  {
   "cell_type": "code",
   "execution_count": 9,
   "metadata": {},
   "outputs": [
    {
     "ename": "FileNotFoundError",
     "evalue": "[Errno 2] No such file or directory: 'example.txt'",
     "output_type": "error",
     "traceback": [
      "\u001b[1;31m---------------------------------------------------------------------------\u001b[0m",
      "\u001b[1;31mFileNotFoundError\u001b[0m                         Traceback (most recent call last)",
      "Cell \u001b[1;32mIn[9], line 7\u001b[0m\n\u001b[0;32m      4\u001b[0m date_pattern \u001b[38;5;241m=\u001b[39m re\u001b[38;5;241m.\u001b[39mcompile(\u001b[38;5;124mr\u001b[39m\u001b[38;5;124m'\u001b[39m\u001b[38;5;124m(\u001b[39m\u001b[38;5;124m\\\u001b[39m\u001b[38;5;124md\u001b[39m\u001b[38;5;132;01m{4}\u001b[39;00m\u001b[38;5;124m)-(\u001b[39m\u001b[38;5;124m\\\u001b[39m\u001b[38;5;124md\u001b[39m\u001b[38;5;132;01m{2}\u001b[39;00m\u001b[38;5;124m)-(\u001b[39m\u001b[38;5;124m\\\u001b[39m\u001b[38;5;124md\u001b[39m\u001b[38;5;132;01m{2}\u001b[39;00m\u001b[38;5;124m)\u001b[39m\u001b[38;5;124m'\u001b[39m)\n\u001b[0;32m      6\u001b[0m \u001b[38;5;66;03m# Open the file and read its content\u001b[39;00m\n\u001b[1;32m----> 7\u001b[0m \u001b[38;5;28;01mwith\u001b[39;00m \u001b[38;5;28mopen\u001b[39m(\u001b[38;5;124m'\u001b[39m\u001b[38;5;124mexample.txt\u001b[39m\u001b[38;5;124m'\u001b[39m, \u001b[38;5;124m'\u001b[39m\u001b[38;5;124mr\u001b[39m\u001b[38;5;124m'\u001b[39m) \u001b[38;5;28;01mas\u001b[39;00m file:\n\u001b[0;32m      8\u001b[0m     text \u001b[38;5;241m=\u001b[39m file\u001b[38;5;241m.\u001b[39mread()\n\u001b[0;32m     10\u001b[0m \u001b[38;5;66;03m# Find all matches in the text using finditer\u001b[39;00m\n",
      "File \u001b[1;32mC:\\coding\\anaconda\\Lib\\site-packages\\IPython\\core\\interactiveshell.py:286\u001b[0m, in \u001b[0;36m_modified_open\u001b[1;34m(file, *args, **kwargs)\u001b[0m\n\u001b[0;32m    279\u001b[0m \u001b[38;5;28;01mif\u001b[39;00m file \u001b[38;5;129;01min\u001b[39;00m {\u001b[38;5;241m0\u001b[39m, \u001b[38;5;241m1\u001b[39m, \u001b[38;5;241m2\u001b[39m}:\n\u001b[0;32m    280\u001b[0m     \u001b[38;5;28;01mraise\u001b[39;00m \u001b[38;5;167;01mValueError\u001b[39;00m(\n\u001b[0;32m    281\u001b[0m         \u001b[38;5;124mf\u001b[39m\u001b[38;5;124m\"\u001b[39m\u001b[38;5;124mIPython won\u001b[39m\u001b[38;5;124m'\u001b[39m\u001b[38;5;124mt let you open fd=\u001b[39m\u001b[38;5;132;01m{\u001b[39;00mfile\u001b[38;5;132;01m}\u001b[39;00m\u001b[38;5;124m by default \u001b[39m\u001b[38;5;124m\"\u001b[39m\n\u001b[0;32m    282\u001b[0m         \u001b[38;5;124m\"\u001b[39m\u001b[38;5;124mas it is likely to crash IPython. If you know what you are doing, \u001b[39m\u001b[38;5;124m\"\u001b[39m\n\u001b[0;32m    283\u001b[0m         \u001b[38;5;124m\"\u001b[39m\u001b[38;5;124myou can use builtins\u001b[39m\u001b[38;5;124m'\u001b[39m\u001b[38;5;124m open.\u001b[39m\u001b[38;5;124m\"\u001b[39m\n\u001b[0;32m    284\u001b[0m     )\n\u001b[1;32m--> 286\u001b[0m \u001b[38;5;28;01mreturn\u001b[39;00m io_open(file, \u001b[38;5;241m*\u001b[39margs, \u001b[38;5;241m*\u001b[39m\u001b[38;5;241m*\u001b[39mkwargs)\n",
      "\u001b[1;31mFileNotFoundError\u001b[0m: [Errno 2] No such file or directory: 'example.txt'"
     ]
    }
   ],
   "source": [
    "import re\n",
    "\n",
    "# Define the pattern for matching dates (YYYY-MM-DD)\n",
    "date_pattern = re.compile(r'(\\d{4})-(\\d{2})-(\\d{2})')\n",
    "\n",
    "# Open the file and read its content\n",
    "with open('example.txt', 'r') as file:\n",
    "    text = file.read()\n",
    "\n",
    "# Find all matches in the text using finditer\n",
    "matches = date_pattern.finditer(text)\n",
    "\n",
    "# Iterate over matches and print in the desired format\n",
    "for match in matches:\n",
    "    year, month, day = match.groups()\n",
    "    formatted_date = f\"{month}/{day}/{year}\"\n",
    "    print(formatted_date)\n"
   ]
  }
 ],
 "metadata": {
  "kernelspec": {
   "display_name": "Python 3 (ipykernel)",
   "language": "python",
   "name": "python3"
  },
  "language_info": {
   "codemirror_mode": {
    "name": "ipython",
    "version": 3
   },
   "file_extension": ".py",
   "mimetype": "text/x-python",
   "name": "python",
   "nbconvert_exporter": "python",
   "pygments_lexer": "ipython3",
   "version": "3.11.5"
  }
 },
 "nbformat": 4,
 "nbformat_minor": 4
}
